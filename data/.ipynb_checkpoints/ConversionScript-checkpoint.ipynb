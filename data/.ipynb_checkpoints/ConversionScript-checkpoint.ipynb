{
 "cells": [
  {
   "cell_type": "code",
   "execution_count": null,
   "metadata": {},
   "outputs": [],
   "source": [
    "import pandas as pd"
   ]
  },
  {
   "cell_type": "code",
   "execution_count": 5,
   "metadata": {},
   "outputs": [],
   "source": [
    "#reads the stops file\n",
    "file = pd.read_csv('MBTA_GTFS/stops.txt')\n",
    "\n",
    "#writes the stops file to csv\n",
    "filewrite = file.to_csv('MBTA_GTFS_csv/stops.csv')"
   ]
  },
  {
   "cell_type": "code",
   "execution_count": 6,
   "metadata": {},
   "outputs": [
    {
     "name": "stderr",
     "output_type": "stream",
     "text": [
      "/Users/arimayer/anaconda3/lib/python3.7/site-packages/IPython/core/interactiveshell.py:3057: DtypeWarning: Columns (0,3,9) have mixed types. Specify dtype option on import or set low_memory=False.\n",
      "  interactivity=interactivity, compiler=compiler, result=result)\n"
     ]
    }
   ],
   "source": [
    "#reads the stops_times file\n",
    "file = pd.read_csv('MBTA_GTFS/stop_times.txt')\n",
    "\n",
    "#writes the stops_times file to csv\n",
    "filewrite = file.to_csv('MBTA_GTFS_csv/stop_times.csv')"
   ]
  },
  {
   "cell_type": "code",
   "execution_count": 7,
   "metadata": {},
   "outputs": [
    {
     "name": "stderr",
     "output_type": "stream",
     "text": [
      "/Users/arimayer/anaconda3/lib/python3.7/site-packages/IPython/core/interactiveshell.py:3057: DtypeWarning: Columns (4) have mixed types. Specify dtype option on import or set low_memory=False.\n",
      "  interactivity=interactivity, compiler=compiler, result=result)\n"
     ]
    }
   ],
   "source": [
    "#reads the trips file\n",
    "file = pd.read_csv('MBTA_GTFS/trips.txt')\n",
    "\n",
    "#writes the trips file to csv\n",
    "filewrite = file.to_csv('MBTA_GTFS_csv/trips.csv')"
   ]
  },
  {
   "cell_type": "code",
   "execution_count": 8,
   "metadata": {},
   "outputs": [],
   "source": [
    "#reads the routes file\n",
    "file = pd.read_csv('MBTA_GTFS/routes.txt')\n",
    "\n",
    "#writes the routes file to csv\n",
    "filewrite = file.to_csv('MBTA_GTFS_csv/routes.csv')"
   ]
  },
  {
   "cell_type": "code",
   "execution_count": 9,
   "metadata": {},
   "outputs": [],
   "source": [
    "#reads the stops file\n",
    "file = pd.read_csv('MBTA_GTFS/shapes.txt')\n",
    "\n",
    "#writes the stops file to csv\n",
    "filewrite = file.to_csv('MBTA_GTFS_csv/shapes.csv')"
   ]
  },
  {
   "cell_type": "code",
   "execution_count": null,
   "metadata": {},
   "outputs": [],
   "source": []
  }
 ],
 "metadata": {
  "kernelspec": {
   "display_name": "Python 3",
   "language": "python",
   "name": "python3"
  },
  "language_info": {
   "codemirror_mode": {
    "name": "ipython",
    "version": 3
   },
   "file_extension": ".py",
   "mimetype": "text/x-python",
   "name": "python",
   "nbconvert_exporter": "python",
   "pygments_lexer": "ipython3",
   "version": "3.7.3"
  }
 },
 "nbformat": 4,
 "nbformat_minor": 4
}
